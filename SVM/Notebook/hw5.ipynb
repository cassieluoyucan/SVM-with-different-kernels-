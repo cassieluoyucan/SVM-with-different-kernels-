{
 "cells": [
  {
   "cell_type": "markdown",
   "metadata": {},
   "source": [
    "# NAME: Yucan Luo usc_id : 8085970332"
   ]
  },
  {
   "cell_type": "markdown",
   "metadata": {},
   "source": [
    "# 1. Multi-class and Multi-Label Classification Using Support Vector Machines"
   ]
  },
  {
   "cell_type": "markdown",
   "metadata": {},
   "source": [
    "# (a) Choose 70% of the data randomly as the training set."
   ]
  },
  {
   "cell_type": "code",
   "execution_count": 1,
   "metadata": {
    "collapsed": true
   },
   "outputs": [],
   "source": [
    "import pandas as pd\n",
    "import numpy as np\n",
    "import matplotlib.pyplot as plt\n",
    "import seaborn as sns\n",
    "from sklearn.model_selection import train_test_split"
   ]
  },
  {
   "cell_type": "code",
   "execution_count": 2,
   "metadata": {
    "collapsed": true
   },
   "outputs": [],
   "source": [
    "### read the data \n",
    "data = pd.read_csv('../Anuran Calls (MFCCs)/Frogs_MFCCs.csv')"
   ]
  },
  {
   "cell_type": "code",
   "execution_count": 3,
   "metadata": {},
   "outputs": [
    {
     "data": {
      "text/html": [
       "<div>\n",
       "<style scoped>\n",
       "    .dataframe tbody tr th:only-of-type {\n",
       "        vertical-align: middle;\n",
       "    }\n",
       "\n",
       "    .dataframe tbody tr th {\n",
       "        vertical-align: top;\n",
       "    }\n",
       "\n",
       "    .dataframe thead th {\n",
       "        text-align: right;\n",
       "    }\n",
       "</style>\n",
       "<table border=\"1\" class=\"dataframe\">\n",
       "  <thead>\n",
       "    <tr style=\"text-align: right;\">\n",
       "      <th></th>\n",
       "      <th>MFCCs_ 1</th>\n",
       "      <th>MFCCs_ 2</th>\n",
       "      <th>MFCCs_ 3</th>\n",
       "      <th>MFCCs_ 4</th>\n",
       "      <th>MFCCs_ 5</th>\n",
       "      <th>MFCCs_ 6</th>\n",
       "      <th>MFCCs_ 7</th>\n",
       "      <th>MFCCs_ 8</th>\n",
       "      <th>MFCCs_ 9</th>\n",
       "      <th>MFCCs_10</th>\n",
       "      <th>...</th>\n",
       "      <th>MFCCs_17</th>\n",
       "      <th>MFCCs_18</th>\n",
       "      <th>MFCCs_19</th>\n",
       "      <th>MFCCs_20</th>\n",
       "      <th>MFCCs_21</th>\n",
       "      <th>MFCCs_22</th>\n",
       "      <th>Family</th>\n",
       "      <th>Genus</th>\n",
       "      <th>Species</th>\n",
       "      <th>RecordID</th>\n",
       "    </tr>\n",
       "  </thead>\n",
       "  <tbody>\n",
       "    <tr>\n",
       "      <th>0</th>\n",
       "      <td>1.0</td>\n",
       "      <td>0.152936</td>\n",
       "      <td>-0.105586</td>\n",
       "      <td>0.200722</td>\n",
       "      <td>0.317201</td>\n",
       "      <td>0.260764</td>\n",
       "      <td>0.100945</td>\n",
       "      <td>-0.150063</td>\n",
       "      <td>-0.171128</td>\n",
       "      <td>0.124676</td>\n",
       "      <td>...</td>\n",
       "      <td>-0.108351</td>\n",
       "      <td>-0.077623</td>\n",
       "      <td>-0.009568</td>\n",
       "      <td>0.057684</td>\n",
       "      <td>0.118680</td>\n",
       "      <td>0.014038</td>\n",
       "      <td>Leptodactylidae</td>\n",
       "      <td>Adenomera</td>\n",
       "      <td>AdenomeraAndre</td>\n",
       "      <td>1</td>\n",
       "    </tr>\n",
       "    <tr>\n",
       "      <th>1</th>\n",
       "      <td>1.0</td>\n",
       "      <td>0.171534</td>\n",
       "      <td>-0.098975</td>\n",
       "      <td>0.268425</td>\n",
       "      <td>0.338672</td>\n",
       "      <td>0.268353</td>\n",
       "      <td>0.060835</td>\n",
       "      <td>-0.222475</td>\n",
       "      <td>-0.207693</td>\n",
       "      <td>0.170883</td>\n",
       "      <td>...</td>\n",
       "      <td>-0.090974</td>\n",
       "      <td>-0.056510</td>\n",
       "      <td>-0.035303</td>\n",
       "      <td>0.020140</td>\n",
       "      <td>0.082263</td>\n",
       "      <td>0.029056</td>\n",
       "      <td>Leptodactylidae</td>\n",
       "      <td>Adenomera</td>\n",
       "      <td>AdenomeraAndre</td>\n",
       "      <td>1</td>\n",
       "    </tr>\n",
       "    <tr>\n",
       "      <th>2</th>\n",
       "      <td>1.0</td>\n",
       "      <td>0.152317</td>\n",
       "      <td>-0.082973</td>\n",
       "      <td>0.287128</td>\n",
       "      <td>0.276014</td>\n",
       "      <td>0.189867</td>\n",
       "      <td>0.008714</td>\n",
       "      <td>-0.242234</td>\n",
       "      <td>-0.219153</td>\n",
       "      <td>0.232538</td>\n",
       "      <td>...</td>\n",
       "      <td>-0.050691</td>\n",
       "      <td>-0.023590</td>\n",
       "      <td>-0.066722</td>\n",
       "      <td>-0.025083</td>\n",
       "      <td>0.099108</td>\n",
       "      <td>0.077162</td>\n",
       "      <td>Leptodactylidae</td>\n",
       "      <td>Adenomera</td>\n",
       "      <td>AdenomeraAndre</td>\n",
       "      <td>1</td>\n",
       "    </tr>\n",
       "    <tr>\n",
       "      <th>3</th>\n",
       "      <td>1.0</td>\n",
       "      <td>0.224392</td>\n",
       "      <td>0.118985</td>\n",
       "      <td>0.329432</td>\n",
       "      <td>0.372088</td>\n",
       "      <td>0.361005</td>\n",
       "      <td>0.015501</td>\n",
       "      <td>-0.194347</td>\n",
       "      <td>-0.098181</td>\n",
       "      <td>0.270375</td>\n",
       "      <td>...</td>\n",
       "      <td>-0.136009</td>\n",
       "      <td>-0.177037</td>\n",
       "      <td>-0.130498</td>\n",
       "      <td>-0.054766</td>\n",
       "      <td>-0.018691</td>\n",
       "      <td>0.023954</td>\n",
       "      <td>Leptodactylidae</td>\n",
       "      <td>Adenomera</td>\n",
       "      <td>AdenomeraAndre</td>\n",
       "      <td>1</td>\n",
       "    </tr>\n",
       "    <tr>\n",
       "      <th>4</th>\n",
       "      <td>1.0</td>\n",
       "      <td>0.087817</td>\n",
       "      <td>-0.068345</td>\n",
       "      <td>0.306967</td>\n",
       "      <td>0.330923</td>\n",
       "      <td>0.249144</td>\n",
       "      <td>0.006884</td>\n",
       "      <td>-0.265423</td>\n",
       "      <td>-0.172700</td>\n",
       "      <td>0.266434</td>\n",
       "      <td>...</td>\n",
       "      <td>-0.048885</td>\n",
       "      <td>-0.053074</td>\n",
       "      <td>-0.088550</td>\n",
       "      <td>-0.031346</td>\n",
       "      <td>0.108610</td>\n",
       "      <td>0.079244</td>\n",
       "      <td>Leptodactylidae</td>\n",
       "      <td>Adenomera</td>\n",
       "      <td>AdenomeraAndre</td>\n",
       "      <td>1</td>\n",
       "    </tr>\n",
       "  </tbody>\n",
       "</table>\n",
       "<p>5 rows × 26 columns</p>\n",
       "</div>"
      ],
      "text/plain": [
       "   MFCCs_ 1  MFCCs_ 2  MFCCs_ 3  MFCCs_ 4  MFCCs_ 5  MFCCs_ 6  MFCCs_ 7  \\\n",
       "0       1.0  0.152936 -0.105586  0.200722  0.317201  0.260764  0.100945   \n",
       "1       1.0  0.171534 -0.098975  0.268425  0.338672  0.268353  0.060835   \n",
       "2       1.0  0.152317 -0.082973  0.287128  0.276014  0.189867  0.008714   \n",
       "3       1.0  0.224392  0.118985  0.329432  0.372088  0.361005  0.015501   \n",
       "4       1.0  0.087817 -0.068345  0.306967  0.330923  0.249144  0.006884   \n",
       "\n",
       "   MFCCs_ 8  MFCCs_ 9  MFCCs_10  ...  MFCCs_17  MFCCs_18  MFCCs_19  MFCCs_20  \\\n",
       "0 -0.150063 -0.171128  0.124676  ... -0.108351 -0.077623 -0.009568  0.057684   \n",
       "1 -0.222475 -0.207693  0.170883  ... -0.090974 -0.056510 -0.035303  0.020140   \n",
       "2 -0.242234 -0.219153  0.232538  ... -0.050691 -0.023590 -0.066722 -0.025083   \n",
       "3 -0.194347 -0.098181  0.270375  ... -0.136009 -0.177037 -0.130498 -0.054766   \n",
       "4 -0.265423 -0.172700  0.266434  ... -0.048885 -0.053074 -0.088550 -0.031346   \n",
       "\n",
       "   MFCCs_21  MFCCs_22           Family      Genus         Species  RecordID  \n",
       "0  0.118680  0.014038  Leptodactylidae  Adenomera  AdenomeraAndre         1  \n",
       "1  0.082263  0.029056  Leptodactylidae  Adenomera  AdenomeraAndre         1  \n",
       "2  0.099108  0.077162  Leptodactylidae  Adenomera  AdenomeraAndre         1  \n",
       "3 -0.018691  0.023954  Leptodactylidae  Adenomera  AdenomeraAndre         1  \n",
       "4  0.108610  0.079244  Leptodactylidae  Adenomera  AdenomeraAndre         1  \n",
       "\n",
       "[5 rows x 26 columns]"
      ]
     },
     "execution_count": 3,
     "metadata": {},
     "output_type": "execute_result"
    }
   ],
   "source": [
    "data.head(5)"
   ]
  },
  {
   "cell_type": "code",
   "execution_count": 4,
   "metadata": {
    "collapsed": true
   },
   "outputs": [],
   "source": [
    "### we found out that first 22 col is x feaures and 23,24,25 col are labels\n",
    "\n",
    "X = data.iloc[:, :22]\n",
    "y = data.iloc[:, 22:25]"
   ]
  },
  {
   "cell_type": "code",
   "execution_count": 5,
   "metadata": {
    "collapsed": true
   },
   "outputs": [],
   "source": [
    "### to split the data into train and test (70-30)\n",
    "from sklearn.model_selection import train_test_split\n",
    "from sklearn.preprocessing import StandardScaler\n",
    "def split_data(X,y,label):\n",
    "    X_train, X_test, y_train, y_test = train_test_split(\n",
    "        X, y, test_size=0.3,random_state=42)\n",
    "    y_train_label = y_train.loc[:, label]\n",
    "    y_test_label = y_test.loc[:, label]\n",
    "    \n",
    "    \n",
    "    ### standardize the features \n",
    "    std = StandardScaler()\n",
    "    X_train = pd.DataFrame(std.fit_transform(X_train))\n",
    "    X_test = pd.DataFrame(std.transform(X_test))\n",
    "    \n",
    "    return X_train, X_test, y_train_label, y_test_label\n"
   ]
  },
  {
   "cell_type": "code",
   "execution_count": 6,
   "metadata": {
    "collapsed": true
   },
   "outputs": [],
   "source": [
    "### split the data respect to its labels \n",
    "X_train, X_test, y_train_family, y_test_family = split_data(X,y,'Family')\n",
    "_, _, y_train_genus, y_test_genus = split_data(X,y,'Genus')\n",
    "_, _, y_train_species, y_test_species = split_data(X,y,'Species')"
   ]
  },
  {
   "cell_type": "code",
   "execution_count": 8,
   "metadata": {
    "collapsed": true
   },
   "outputs": [],
   "source": [
    "#X_train"
   ]
  },
  {
   "cell_type": "code",
   "execution_count": 12,
   "metadata": {
    "collapsed": true
   },
   "outputs": [],
   "source": [
    "#print(y_train_family)"
   ]
  },
  {
   "cell_type": "markdown",
   "metadata": {},
   "source": [
    "# (b) Each instance has three labels: Families, Genus, and Species. Each of the labels has multiple classes. We wish to solve a multi-class and multi-label problem. One of the most important approaches to multi-class classification is to train a classifier for each label. We first try this approach:\n"
   ]
  },
  {
   "cell_type": "markdown",
   "metadata": {},
   "source": [
    " # i. Research exact match and hamming score/ loss methods for evaluating multi- label classification and use them in evaluating the classifiers in this problem.\n",
    "\n",
    "Exact matches: the predicted set of lablels should be exactly match with true set of lables.\n",
    "\n",
    "\n",
    "Hamming score: the fraction of the correct labels to the total number of lables.\n",
    "\n",
    "\n",
    "Hamming loss: the fraction of the wrong labels to the total number of labels. Hamming Loss =1- Hamming score\n",
    "\n"
   ]
  },
  {
   "cell_type": "markdown",
   "metadata": {},
   "source": [
    "\n",
    "# ii. Train a SVM for each of the labels, using Gaussian kernels and one versus all classifiers. Determine the weight of the SVM penalty and the width of the Gaussian Kernel using 10 fold cross validation. You are welcome to try to solve the problem with both standardized and raw attributes and report the results"
   ]
  },
  {
   "cell_type": "code",
   "execution_count": 7,
   "metadata": {
    "collapsed": true
   },
   "outputs": [],
   "source": [
    "\n",
    "from sklearn.model_selection import KFold\n",
    "from sklearn.pipeline import Pipeline \n",
    "from sklearn.model_selection import GridSearchCV\n",
    "import warnings\n",
    "warnings.filterwarnings('ignore')\n"
   ]
  },
  {
   "cell_type": "code",
   "execution_count": 70,
   "metadata": {
    "collapsed": true
   },
   "outputs": [],
   "source": [
    "\n",
    "from hyperopt import fmin, tpe, hp, STATUS_OK, Trials\n",
    "from sklearn.svm import SVC\n",
    "from sklearn.model_selection import cross_val_score\n",
    "\n",
    "\n",
    "def tunning_params(y_train_lable):\n",
    "    \n",
    "    ###set up space dictionary with specified hyperparameters\n",
    "    space = {'C'     : hp.loguniform('C', -3, 3),\n",
    "             'gamma' : hp.loguniform('gamma', -9, 0)}\n",
    "    \n",
    "    def f(params):\n",
    "        clf = SVC(**params) ### the default for kernel is already 'rbf' and default decision classifier is 'ovr'\n",
    "        best_score = cross_val_score(clf, X_train, y_train_lable, cv=10, \n",
    "                                     scoring='accuracy', n_jobs=-1).mean() # 10-fold cv\n",
    "        return 1- best_score\n",
    "\n",
    "\n",
    "    \n",
    "    trials = Trials()\n",
    "    # Run the algorithm\n",
    "    best = fmin(fn=f,\n",
    "                space=space, \n",
    "                max_evals=100, # Control how many evaluations to take\n",
    "                algo=tpe.suggest,\n",
    "                trials = trials)\n",
    "    \n",
    "    return best \n",
    "    \n",
    "    "
   ]
  },
  {
   "cell_type": "code",
   "execution_count": 9,
   "metadata": {},
   "outputs": [
    {
     "name": "stdout",
     "output_type": "stream",
     "text": [
      "100%|██████████| 100/100 [03:28<00:00,  2.08s/trial, best loss: 0.00675155416706108]\n"
     ]
    }
   ],
   "source": [
    "#### get the best_params for family after tunning\n",
    "\n",
    "best_param_family =tunning_params(y_train_family)"
   ]
  },
  {
   "cell_type": "code",
   "execution_count": 10,
   "metadata": {},
   "outputs": [
    {
     "name": "stdout",
     "output_type": "stream",
     "text": [
      "{'C': 6.0802372629398835, 'gamma': 0.06473978469242313}\n"
     ]
    }
   ],
   "source": [
    "print(best_param_family)"
   ]
  },
  {
   "cell_type": "code",
   "execution_count": 11,
   "metadata": {
    "collapsed": true
   },
   "outputs": [],
   "source": [
    "### refit the model for family \n",
    "svc_family = SVC(**best_param_family)  \n",
    "svc_family.fit(X_train, y_train_family)\n",
    "y_pred_family = svc_family.predict(X_test)\n"
   ]
  },
  {
   "cell_type": "code",
   "execution_count": 29,
   "metadata": {},
   "outputs": [
    {
     "name": "stdout",
     "output_type": "stream",
     "text": [
      "the hamming_loss for label family is 0.006484483557202408\n",
      "the hamming_socre for lable family is 0.9935155164427976\n"
     ]
    }
   ],
   "source": [
    "from sklearn.metrics import hamming_loss\n",
    "hamming_loss_family =hamming_loss(y_pred_family, y_test_family)\n",
    "hamming_score_family = 1- hamming_loss_family\n",
    "\n",
    "print(\"the hamming_loss for label family is {}\".format(hamming_loss_family))\n",
    "print(\"the hamming_socre for lable family is {}\".format(hamming_score_family))"
   ]
  },
  {
   "cell_type": "code",
   "execution_count": 30,
   "metadata": {},
   "outputs": [
    {
     "name": "stdout",
     "output_type": "stream",
     "text": [
      "100%|██████████| 100/100 [04:24<00:00,  2.65s/trial, best loss: 0.009134478841238192]\n"
     ]
    }
   ],
   "source": [
    "#### get the best_params for label genus after tuning \n",
    "best_param_genus = tunning_params(y_train_genus)"
   ]
  },
  {
   "cell_type": "code",
   "execution_count": 42,
   "metadata": {},
   "outputs": [
    {
     "name": "stdout",
     "output_type": "stream",
     "text": [
      "{'C': 18.329707291797714, 'gamma': 0.04748189630991691}\n"
     ]
    }
   ],
   "source": [
    "print(best_param_genus)"
   ]
  },
  {
   "cell_type": "code",
   "execution_count": 33,
   "metadata": {
    "collapsed": true
   },
   "outputs": [],
   "source": [
    "### refit the model for genus label \n",
    "svc_genus = SVC(**best_param_genus)  \n",
    "svc_genus.fit(X_train, y_train_genus)\n",
    "y_pred_genus = svc_genus.predict(X_test)"
   ]
  },
  {
   "cell_type": "code",
   "execution_count": 35,
   "metadata": {},
   "outputs": [
    {
     "name": "stdout",
     "output_type": "stream",
     "text": [
      "the hamming_loss for label genus is 0.009263547938860583\n",
      "the hamming_socre for lable genus is 0.9907364520611395\n"
     ]
    }
   ],
   "source": [
    "hamming_loss_genus =hamming_loss(y_pred_genus, y_test_genus)\n",
    "hamming_score_genus = 1- hamming_loss_genus\n",
    "\n",
    "print(\"the hamming_loss for label genus is {}\".format(hamming_loss_genus))\n",
    "print(\"the hamming_socre for lable genus is {}\".format(hamming_score_genus))"
   ]
  },
  {
   "cell_type": "code",
   "execution_count": 36,
   "metadata": {},
   "outputs": [
    {
     "name": "stdout",
     "output_type": "stream",
     "text": [
      "100%|██████████| 100/100 [04:01<00:00,  2.42s/trial, best loss: 0.009928918552178922]\n"
     ]
    }
   ],
   "source": [
    "#### get the best_params for label species after tuning \n",
    "best_param_species = tunning_params(y_train_species)"
   ]
  },
  {
   "cell_type": "code",
   "execution_count": 38,
   "metadata": {},
   "outputs": [
    {
     "name": "stdout",
     "output_type": "stream",
     "text": [
      "{'C': 15.196147963209235, 'gamma': 0.03174314506698205}\n"
     ]
    }
   ],
   "source": [
    "print(best_param_species)"
   ]
  },
  {
   "cell_type": "code",
   "execution_count": 39,
   "metadata": {
    "collapsed": true
   },
   "outputs": [],
   "source": [
    "### refit the model for species label \n",
    "svc_species = SVC(**best_param_species)  \n",
    "svc_species.fit(X_train, y_train_species)\n",
    "y_pred_species = svc_species.predict(X_test)"
   ]
  },
  {
   "cell_type": "code",
   "execution_count": 40,
   "metadata": {},
   "outputs": [
    {
     "name": "stdout",
     "output_type": "stream",
     "text": [
      "the hamming_loss for label species is 0.012505789717461788\n",
      "the hamming_socre for lable species is 0.9874942102825383\n"
     ]
    }
   ],
   "source": [
    "hamming_loss_species =hamming_loss(y_pred_species, y_test_species)\n",
    "hamming_score_species = 1- hamming_loss_species\n",
    "\n",
    "print(\"the hamming_loss for label species is {}\".format(hamming_loss_species))\n",
    "print(\"the hamming_socre for lable species is {}\".format(hamming_score_species))"
   ]
  },
  {
   "cell_type": "code",
   "execution_count": 41,
   "metadata": {
    "collapsed": true
   },
   "outputs": [],
   "source": [
    "#### multi-label evaluation ###\n",
    "y_test = np.column_stack((y_test_family, y_test_genus, y_test_species))\n",
    "y_pred = np.column_stack((y_pred_family, y_pred_genus, y_pred_species))"
   ]
  },
  {
   "cell_type": "code",
   "execution_count": 54,
   "metadata": {
    "collapsed": true
   },
   "outputs": [],
   "source": [
    "def accuracy_score_multi(y_test, y_pred):\n",
    "    return np.sum(np.all(np.equal(y_test, y_pred), axis=1)) / y_test.shape[0]\n",
    "\n",
    "def hamming_score_multi(y_test, y_pred):\n",
    "    return np.mean((np.sum((np.equal(y_test, y_pred)), axis=1) / y_test.shape[1]))"
   ]
  },
  {
   "cell_type": "code",
   "execution_count": 66,
   "metadata": {},
   "outputs": [
    {
     "name": "stdout",
     "output_type": "stream",
     "text": [
      "the accuracy score for multi lable (exact match) is 0.9905820595954918\n",
      "the hamming loss for multi lable is 0.009417940404508163\n"
     ]
    }
   ],
   "source": [
    "exact = hamming_score_multi(y_test, y_pred)\n",
    "print(\"the accuracy score for multi lable (exact match) is {}\".format(exact))\n",
    "\n",
    "hamming_loss_multi = 1- hamming_score_multi(y_test,y_pred)\n",
    "print(\"the hamming loss for multi lable is {}\".format(hamming_loss_multi))"
   ]
  },
  {
   "cell_type": "markdown",
   "metadata": {},
   "source": [
    "# iii. Repeat 1(b)ii with L1-penalized SVM Remember to standardize the attributes. Determine the weight of the SVM penalty using 10 fold cross validation."
   ]
  },
  {
   "cell_type": "code",
   "execution_count": 124,
   "metadata": {
    "collapsed": true
   },
   "outputs": [],
   "source": [
    "###L1-penalized Linear SVM, since we alread standardized the features we can use it directly ###\n",
    "\n",
    "from sklearn.linear_model import SGDClassifier \n",
    "\n",
    "def l1_opt_linear(y_train_lable):\n",
    "    \n",
    "    ###set up space dictionary with specified hyperparameters\n",
    "    space = {'alpha'     : hp.loguniform('alpha', -6, 3),}\n",
    "    \n",
    "    def fc(params):\n",
    "        clf = SGDClassifier(**params,penalty='l1',early_stopping= True,n_jobs=-1) \n",
    "        best_score = cross_val_score(clf, X_train, y_train_lable, cv=10, \n",
    "                                     scoring='accuracy', n_jobs=-1).mean() # 10-fold cv\n",
    "        return 1- best_score\n",
    "\n",
    "    \n",
    "    trials = Trials()\n",
    "    # Run the algorithm\n",
    "    best = fmin(fn=fc,\n",
    "                space=space, \n",
    "                max_evals=100, # Control how many evaluations to take\n",
    "                algo=tpe.suggest,\n",
    "                trials = trials)\n",
    "    \n",
    "    return best \n",
    "    "
   ]
  },
  {
   "cell_type": "code",
   "execution_count": 125,
   "metadata": {},
   "outputs": [
    {
     "name": "stdout",
     "output_type": "stream",
     "text": [
      "100%|██████████| 100/100 [00:58<00:00,  1.70trial/s, best loss: 0.06592350657957025]\n"
     ]
    }
   ],
   "source": [
    "l1_best_param_family = l1_opt_linear(y_train_family)"
   ]
  },
  {
   "cell_type": "code",
   "execution_count": 126,
   "metadata": {},
   "outputs": [
    {
     "name": "stdout",
     "output_type": "stream",
     "text": [
      "after 10 fold validation  {'alpha': 0.0025999825722382106}\n"
     ]
    }
   ],
   "source": [
    "print(\"after 10 fold validation \",l1_best_param_family)"
   ]
  },
  {
   "cell_type": "code",
   "execution_count": 127,
   "metadata": {
    "collapsed": true
   },
   "outputs": [],
   "source": [
    "### refit the model for family \n",
    "l1_family = SGDClassifier(**l1_best_param_family,penalty='l1',early_stopping= True,n_jobs=-1)  \n",
    "l1_family.fit(X_train, y_train_family)\n",
    "y_pred_family_l1 = l1_family.predict(X_test)"
   ]
  },
  {
   "cell_type": "code",
   "execution_count": 128,
   "metadata": {},
   "outputs": [
    {
     "name": "stdout",
     "output_type": "stream",
     "text": [
      "the hamming_loss for label family with l1 penalty is 0.07179249652616952\n",
      "the hamming_socre for lable family with l1 penalty is 0.9282075034738305\n"
     ]
    }
   ],
   "source": [
    "hamming_loss_family_l1 =hamming_loss(y_pred_family_l1, y_test_family)\n",
    "hamming_score_family_l1 = 1- hamming_loss_family_l1\n",
    "\n",
    "print(\"the hamming_loss for label family with l1 penalty is {}\".format(hamming_loss_family_l1))\n",
    "print(\"the hamming_socre for lable family with l1 penalty is {}\".format(hamming_score_family_l1))"
   ]
  },
  {
   "cell_type": "code",
   "execution_count": 129,
   "metadata": {},
   "outputs": [
    {
     "name": "stdout",
     "output_type": "stream",
     "text": [
      "100%|██████████| 100/100 [01:22<00:00,  1.22trial/s, best loss: 0.07327384896967393]\n"
     ]
    }
   ],
   "source": [
    "l1_best_param_genus = l1_opt_linear(y_train_genus)"
   ]
  },
  {
   "cell_type": "code",
   "execution_count": 130,
   "metadata": {},
   "outputs": [
    {
     "name": "stdout",
     "output_type": "stream",
     "text": [
      "after 10 fold validation the choosen alpha is   {'alpha': 0.002523845688237745}\n"
     ]
    }
   ],
   "source": [
    "print(\"after 10 fold validation the choosen alpha is  \",l1_best_param_genus)"
   ]
  },
  {
   "cell_type": "code",
   "execution_count": 131,
   "metadata": {
    "collapsed": true
   },
   "outputs": [],
   "source": [
    "### refit the model for genus\n",
    "l1_genus = SGDClassifier(**l1_best_param_genus,penalty='l1',early_stopping= True,n_jobs=-1)  \n",
    "l1_genus.fit(X_train, y_train_genus)\n",
    "y_pred_genus_l1 = l1_genus.predict(X_test)"
   ]
  },
  {
   "cell_type": "code",
   "execution_count": 132,
   "metadata": {},
   "outputs": [
    {
     "name": "stdout",
     "output_type": "stream",
     "text": [
      "the hamming_loss for label genus with l1 penalty is 0.08383510884668828\n",
      "the hamming_socre for lable genus with l1 penalty is 0.9161648911533117\n"
     ]
    }
   ],
   "source": [
    "hamming_loss_genus_l1 =hamming_loss(y_pred_genus_l1, y_test_genus)\n",
    "hamming_score_genus_l1 = 1- hamming_loss_genus_l1\n",
    "\n",
    "print(\"the hamming_loss for label genus with l1 penalty is {}\".format(hamming_loss_genus_l1))\n",
    "print(\"the hamming_socre for lable genus with l1 penalty is {}\".format(hamming_score_genus_l1))"
   ]
  },
  {
   "cell_type": "code",
   "execution_count": 133,
   "metadata": {},
   "outputs": [
    {
     "name": "stdout",
     "output_type": "stream",
     "text": [
      "100%|██████████| 100/100 [01:36<00:00,  1.03trial/s, best loss: 0.054206901448452194]\n"
     ]
    }
   ],
   "source": [
    "l1_best_param_species = l1_opt_linear(y_train_species)"
   ]
  },
  {
   "cell_type": "code",
   "execution_count": 134,
   "metadata": {},
   "outputs": [
    {
     "name": "stdout",
     "output_type": "stream",
     "text": [
      "after 10 fold validation the choosen alpha is   {'alpha': 0.002523845688237745}\n"
     ]
    }
   ],
   "source": [
    "print(\"after 10 fold validation the choosen alpha is  \",l1_best_param_genus)"
   ]
  },
  {
   "cell_type": "code",
   "execution_count": 135,
   "metadata": {
    "collapsed": true
   },
   "outputs": [],
   "source": [
    "### refit the model for species \n",
    "l1_species = SGDClassifier(**l1_best_param_species,penalty='l1',early_stopping= True,n_jobs=-1)  \n",
    "l1_species.fit(X_train, y_train_species)\n",
    "y_pred_species_l1 = l1_species.predict(X_test)"
   ]
  },
  {
   "cell_type": "code",
   "execution_count": 136,
   "metadata": {},
   "outputs": [
    {
     "name": "stdout",
     "output_type": "stream",
     "text": [
      "the hamming_loss for label species with l1 penalty is 0.06947660954145438\n",
      "the hamming_socre for lable species with l1 penalty is 0.9305233904585456\n"
     ]
    }
   ],
   "source": [
    "hamming_loss_species_l1 =hamming_loss(y_pred_species_l1, y_test_species)\n",
    "hamming_score_species_l1 = 1- hamming_loss_species_l1\n",
    "\n",
    "print(\"the hamming_loss for label species with l1 penalty is {}\".format(hamming_loss_species_l1))\n",
    "print(\"the hamming_socre for lable species with l1 penalty is {}\".format(hamming_score_species_l1))"
   ]
  },
  {
   "cell_type": "code",
   "execution_count": 137,
   "metadata": {
    "collapsed": true
   },
   "outputs": [],
   "source": [
    "#### multi-label evaluation ###\n",
    "y_test = np.column_stack((y_test_family, y_test_genus, y_test_species))\n",
    "y_pred_l1 = np.column_stack((y_pred_family_l1, y_pred_genus_l1, y_pred_species_l1))"
   ]
  },
  {
   "cell_type": "code",
   "execution_count": 138,
   "metadata": {},
   "outputs": [
    {
     "name": "stdout",
     "output_type": "stream",
     "text": [
      "the accuracy score with l1 penalty for multi lable (exact match) is 0.9249652616952293\n",
      "the hamming loss with l1 penalty for multi lable is 0.0750347383047707\n"
     ]
    }
   ],
   "source": [
    "exact_l1 = hamming_score_multi(y_test, y_pred_l1)\n",
    "print(\"the accuracy score with l1 penalty for multi lable (exact match) is {}\".format(exact_l1))\n",
    "\n",
    "hamming_loss_multi_l1 = 1- hamming_score_multi(y_test,y_pred_l1)\n",
    "print(\"the hamming loss with l1 penalty for multi lable is {}\".format(hamming_loss_multi_l1))"
   ]
  },
  {
   "cell_type": "markdown",
   "metadata": {},
   "source": [
    "so , for linear kernel with the l1 penalty, we can see that hamming loss increases a little(worse) compared to SVM with Guassian kernel."
   ]
  },
  {
   "cell_type": "markdown",
   "metadata": {},
   "source": [
    "# iv. Repeat 1(b)iii by using SMOTE or any other method you know to remedy class imbalance. Report your conclusions about the classifiers you trained."
   ]
  },
  {
   "cell_type": "code",
   "execution_count": 93,
   "metadata": {
    "collapsed": true
   },
   "outputs": [],
   "source": [
    "from imblearn.over_sampling import SMOTE\n",
    "###to apply smote on training set \n",
    "sm = SMOTE(random_state=42)\n",
    "X_train_family_sm, y_train_family_sm = sm.fit_resample(X_train, y_train_family)\n",
    "X_train_genus_sm, y_train_genus_sm = sm.fit_resample(X_train, y_train_genus)\n",
    "X_train_species_sm, y_train_species_sm = sm.fit_resample(X_train, y_train_species)\n"
   ]
  },
  {
   "cell_type": "code",
   "execution_count": 108,
   "metadata": {
    "collapsed": true
   },
   "outputs": [],
   "source": [
    "def sm_l1_opt_linear(X_train, y_train_lable):\n",
    "    \n",
    "    ###set up space dictionary with specified hyperparameters\n",
    "    space = {'alpha'     : hp.loguniform('alpha', -6, 3)}\n",
    "    \n",
    "    def fc(params):\n",
    "        clf = SGDClassifier(**params,penalty='l1',early_stopping= True,n_jobs=-1) \n",
    "        best_score = cross_val_score(clf, X_train, y_train_lable, cv=10, \n",
    "                                     scoring='accuracy', n_jobs=-1).mean() # 10-fold cv\n",
    "        return 1- best_score\n",
    "\n",
    "    \n",
    "    trials = Trials()\n",
    "    # Run the algorithm\n",
    "    best = fmin(fn=fc,\n",
    "                space=space, \n",
    "                max_evals=100, # Control how many evaluations to take\n",
    "                algo=tpe.suggest,\n",
    "                trials = trials)\n",
    "    \n",
    "    return best "
   ]
  },
  {
   "cell_type": "code",
   "execution_count": 109,
   "metadata": {},
   "outputs": [
    {
     "name": "stdout",
     "output_type": "stream",
     "text": [
      "100%|██████████| 100/100 [01:55<00:00,  1.16s/trial, best loss: 0.05515628410962703]\n"
     ]
    }
   ],
   "source": [
    "sm_best_param_family = sm_l1_opt_linear(X_train_family_sm, y_train_family_sm)"
   ]
  },
  {
   "cell_type": "code",
   "execution_count": 110,
   "metadata": {},
   "outputs": [
    {
     "name": "stdout",
     "output_type": "stream",
     "text": [
      "after apply smote the alpha chosen  {'alpha': 0.0025063642692590665}\n"
     ]
    }
   ],
   "source": [
    "print(\"after apply smote the alpha chosen \", sm_best_param_family)"
   ]
  },
  {
   "cell_type": "code",
   "execution_count": 111,
   "metadata": {
    "collapsed": true
   },
   "outputs": [],
   "source": [
    "### refit the model for family \n",
    "sm_family = SGDClassifier(**sm_best_param_family,penalty='l1',early_stopping= True,n_jobs=-1)  \n",
    "sm_family.fit(X_train_family_sm, y_train_family_sm)\n",
    "y_pred_family_sm = sm_family.predict(X_test)"
   ]
  },
  {
   "cell_type": "code",
   "execution_count": 112,
   "metadata": {},
   "outputs": [
    {
     "name": "stdout",
     "output_type": "stream",
     "text": [
      "after smote the hamming_loss for label family with l1 penalty is 0.09031959240389069\n",
      "after smote the hamming_socre for lable family with l1 penalty is 0.9096804075961094\n"
     ]
    }
   ],
   "source": [
    "hamming_loss_family_sm =hamming_loss(y_pred_family_sm, y_test_family)\n",
    "hamming_score_family_sm = 1- hamming_loss_family_sm\n",
    "\n",
    "print(\"after smote the hamming_loss for label family with l1 penalty is {}\".format(hamming_loss_family_sm))\n",
    "print(\"after smote the hamming_socre for lable family with l1 penalty is {}\".format(hamming_score_family_sm))"
   ]
  },
  {
   "cell_type": "code",
   "execution_count": 113,
   "metadata": {},
   "outputs": [
    {
     "name": "stdout",
     "output_type": "stream",
     "text": [
      "100%|██████████| 100/100 [04:27<00:00,  2.68s/trial, best loss: 0.06726433435934032]\n"
     ]
    }
   ],
   "source": [
    "sm_best_param_genus = sm_l1_opt_linear(X_train_genus_sm,y_train_genus_sm)"
   ]
  },
  {
   "cell_type": "code",
   "execution_count": 114,
   "metadata": {},
   "outputs": [
    {
     "name": "stdout",
     "output_type": "stream",
     "text": [
      "after apply smote the alpha chosen  {'alpha': 0.0027878799916807905}\n"
     ]
    }
   ],
   "source": [
    "print(\"after apply smote the alpha chosen \", sm_best_param_genus)"
   ]
  },
  {
   "cell_type": "code",
   "execution_count": 115,
   "metadata": {
    "collapsed": true
   },
   "outputs": [],
   "source": [
    "### refit the model for genus \n",
    "sm_genus = SGDClassifier(**sm_best_param_genus,penalty='l1',early_stopping= True,n_jobs=-1)  \n",
    "sm_genus.fit(X_train_genus_sm, y_train_genus_sm)\n",
    "y_pred_genus_sm = sm_genus.predict(X_test)"
   ]
  },
  {
   "cell_type": "code",
   "execution_count": 116,
   "metadata": {},
   "outputs": [
    {
     "name": "stdout",
     "output_type": "stream",
     "text": [
      "after smote, the hamming_loss for label genus with l1 penalty is 0.1000463177396943\n",
      "after smote, the hamming_socre for lable genus with l1 penalty is 0.8999536822603057\n"
     ]
    }
   ],
   "source": [
    "hamming_loss_genus_sm =hamming_loss(y_pred_genus_sm, y_test_genus)\n",
    "hamming_score_genus_sm = 1- hamming_loss_genus_sm\n",
    "\n",
    "print(\"after smote, the hamming_loss for label genus with l1 penalty is {}\".format(hamming_loss_genus_sm))\n",
    "print(\"after smote, the hamming_socre for lable genus with l1 penalty is {}\".format(hamming_score_genus_sm))"
   ]
  },
  {
   "cell_type": "code",
   "execution_count": 117,
   "metadata": {},
   "outputs": [
    {
     "name": "stdout",
     "output_type": "stream",
     "text": [
      "100%|██████████| 100/100 [05:49<00:00,  3.49s/trial, best loss: 0.05827543931344503]\n"
     ]
    }
   ],
   "source": [
    "sm_best_param_species = sm_l1_opt_linear(X_train_species_sm,y_train_species_sm)"
   ]
  },
  {
   "cell_type": "code",
   "execution_count": 118,
   "metadata": {},
   "outputs": [
    {
     "name": "stdout",
     "output_type": "stream",
     "text": [
      "after apply smote the alpha chosen  {'alpha': 0.002515687358386086}\n"
     ]
    }
   ],
   "source": [
    "print(\"after apply smote the alpha chosen \", sm_best_param_species)"
   ]
  },
  {
   "cell_type": "code",
   "execution_count": 119,
   "metadata": {
    "collapsed": true
   },
   "outputs": [],
   "source": [
    "### refit the model for species \n",
    "sm_species = SGDClassifier(**sm_best_param_species,penalty='l1',early_stopping= True,n_jobs=-1)  \n",
    "sm_species.fit(X_train_species_sm, y_train_species_sm)\n",
    "y_pred_species_sm = sm_species.predict(X_test)"
   ]
  },
  {
   "cell_type": "code",
   "execution_count": 121,
   "metadata": {},
   "outputs": [
    {
     "name": "stdout",
     "output_type": "stream",
     "text": [
      "after smote, the hamming_loss for label speices with l1 penalty is 0.05604446503010653\n",
      "after smote, the hamming_socre for lable speices with l1 penalty is 0.9439555349698935\n"
     ]
    }
   ],
   "source": [
    "hamming_loss_species_sm =hamming_loss(y_pred_species_sm, y_test_species)\n",
    "hamming_score_species_sm = 1- hamming_loss_species_sm\n",
    "\n",
    "print(\"after smote, the hamming_loss for label speices with l1 penalty is {}\".format(hamming_loss_species_sm))\n",
    "print(\"after smote, the hamming_socre for lable speices with l1 penalty is {}\".format(hamming_score_species_sm))"
   ]
  },
  {
   "cell_type": "code",
   "execution_count": 122,
   "metadata": {
    "collapsed": true
   },
   "outputs": [],
   "source": [
    "#### multi-label evaluation ###\n",
    "y_test = np.column_stack((y_test_family, y_test_genus, y_test_species))\n",
    "y_pred_sm = np.column_stack((y_pred_family_sm, y_pred_genus_sm, y_pred_species_sm))"
   ]
  },
  {
   "cell_type": "code",
   "execution_count": 123,
   "metadata": {},
   "outputs": [
    {
     "name": "stdout",
     "output_type": "stream",
     "text": [
      "after smote,the accuracy score with l1 penalty for multi lable (exact match) is 0.9178632082754361\n",
      "after smote the hamming loss with l1 penalty for multi lable is 0.0821367917245639\n"
     ]
    }
   ],
   "source": [
    "exact_sm = hamming_score_multi(y_test, y_pred_sm)\n",
    "print(\"after smote,the accuracy score with l1 penalty for multi lable (exact match) is {}\".format(exact_sm))\n",
    "\n",
    "hamming_loss_multi_sm = 1- hamming_score_multi(y_test,y_pred_sm)\n",
    "print(\"after smote the hamming loss with l1 penalty for multi lable is {}\".format(hamming_loss_multi_sm))"
   ]
  },
  {
   "cell_type": "markdown",
   "metadata": {},
   "source": [
    "so we can see that the hamming loss increase a little after applying smote to the training data."
   ]
  },
  {
   "cell_type": "markdown",
   "metadata": {
    "collapsed": true
   },
   "source": [
    "# 2. K-Means Clustering on a Multi-Class and Multi-Label Data Set"
   ]
  },
  {
   "cell_type": "markdown",
   "metadata": {},
   "source": [
    "# (a) Use k-means clustering on the whole Anuran Calls (MFCCs) Data Set (do not split the data into train and test, as we are not performing supervised learning in this exercise). Choose k automatically based on one of the methods provided in the slides (CH or Gap Statistics or scree plots or Silhouettes) or any other method you know."
   ]
  },
  {
   "cell_type": "code",
   "execution_count": 4,
   "metadata": {
    "collapsed": true
   },
   "outputs": [],
   "source": [
    "### this time we don't split the dataset \n",
    "### we only care about x \n",
    "\n",
    "#data.head()\n",
    "\n",
    "X_data = data.iloc[:,:-4] ### get rid of y lables \n",
    "y_data = data.iloc[:,22:25]"
   ]
  },
  {
   "cell_type": "code",
   "execution_count": 5,
   "metadata": {
    "collapsed": true
   },
   "outputs": [],
   "source": [
    "\n",
    "from sklearn.cluster import MiniBatchKMeans # for large size data less computational intensive \n",
    "from sklearn.metrics import silhouette_score"
   ]
  },
  {
   "cell_type": "code",
   "execution_count": 6,
   "metadata": {
    "collapsed": true
   },
   "outputs": [],
   "source": [
    "def k_means_silhouette(k, x):\n",
    "    cluster = MiniBatchKMeans(n_clusters=k, random_state=42)\n",
    "    \n",
    "    cluster_label = cluster.fit_predict(x)\n",
    "    \n",
    "    score = silhouette_score(x, cluster_label, metric=\"euclidean\")\n",
    "    \n",
    "    \n",
    "    return score "
   ]
  },
  {
   "cell_type": "code",
   "execution_count": 7,
   "metadata": {
    "collapsed": true
   },
   "outputs": [],
   "source": [
    "k_range = [*range(2,51)] ## k start at 2 otherwise there's no menaing \n",
    "### initial the k and silhouette score \n",
    "k_score = [0,0] \n",
    "for k in k_range:\n",
    "    \n",
    "    score = k_means_silhouette(k,X_data)\n",
    "    \n",
    "    if score > k_score[1]: ### find the max score and store it's k \n",
    "        k_score = [k,score]"
   ]
  },
  {
   "cell_type": "code",
   "execution_count": 9,
   "metadata": {},
   "outputs": [
    {
     "name": "stdout",
     "output_type": "stream",
     "text": [
      "using silhouette score, the best k is : 7 and the sihouette score is 0.37426410258135157\n"
     ]
    }
   ],
   "source": [
    "print(\"using silhouette score, the best k is : {} and the sihouette score is {}\".format(k_score[0], k_score[1]))"
   ]
  },
  {
   "cell_type": "markdown",
   "metadata": {},
   "source": [
    "# (b) In each cluster, determine which family is the majority by reading the true labels. Repeat for genus and species."
   ]
  },
  {
   "cell_type": "code",
   "execution_count": 10,
   "metadata": {
    "collapsed": true
   },
   "outputs": [],
   "source": [
    "### refit the minibatchkmeans using best k \n",
    "best_k = k_score[0]\n",
    "cluster = MiniBatchKMeans(n_clusters=best_k, random_state=42)\n",
    "cluster_label = cluster.fit_predict(X_data)"
   ]
  },
  {
   "cell_type": "code",
   "execution_count": 11,
   "metadata": {
    "collapsed": true
   },
   "outputs": [],
   "source": [
    "y_data[\"label\"] = cluster_label"
   ]
  },
  {
   "cell_type": "code",
   "execution_count": 13,
   "metadata": {
    "collapsed": true
   },
   "outputs": [],
   "source": [
    "### for each cluster get the majority family \n",
    "\n",
    "frequent_family = y_data.groupby(\"label\")[\"Family\"].agg(pd.Series.mode)"
   ]
  },
  {
   "cell_type": "code",
   "execution_count": 14,
   "metadata": {},
   "outputs": [
    {
     "data": {
      "text/plain": [
       "label\n",
       "0    Leptodactylidae\n",
       "1    Leptodactylidae\n",
       "2      Dendrobatidae\n",
       "3            Hylidae\n",
       "4            Hylidae\n",
       "5    Leptodactylidae\n",
       "6    Leptodactylidae\n",
       "Name: Family, dtype: object"
      ]
     },
     "execution_count": 14,
     "metadata": {},
     "output_type": "execute_result"
    }
   ],
   "source": [
    "frequent_family"
   ]
  },
  {
   "cell_type": "markdown",
   "metadata": {},
   "source": [
    "majority label in each cluster shown as above for Family"
   ]
  },
  {
   "cell_type": "markdown",
   "metadata": {},
   "source": [
    "# Repeat for genus and species."
   ]
  },
  {
   "cell_type": "code",
   "execution_count": 15,
   "metadata": {},
   "outputs": [
    {
     "data": {
      "text/plain": [
       "label\n",
       "0    Leptodactylus\n",
       "1        Adenomera\n",
       "2         Ameerega\n",
       "3        Hypsiboas\n",
       "4        Hypsiboas\n",
       "5        Adenomera\n",
       "6        Adenomera\n",
       "Name: Genus, dtype: object"
      ]
     },
     "execution_count": 15,
     "metadata": {},
     "output_type": "execute_result"
    }
   ],
   "source": [
    "frequent_genus = y_data.groupby(\"label\")['Genus'].agg(pd.Series.mode)\n",
    "frequent_genus "
   ]
  },
  {
   "cell_type": "markdown",
   "metadata": {},
   "source": [
    "majority label in each cluster shown as above for Genus"
   ]
  },
  {
   "cell_type": "code",
   "execution_count": 16,
   "metadata": {},
   "outputs": [
    {
     "data": {
      "text/plain": [
       "label\n",
       "0       LeptodactylusFuscus\n",
       "1    AdenomeraHylaedactylus\n",
       "2        Ameeregatrivittata\n",
       "3      HypsiboasCinerascens\n",
       "4         HypsiboasCordobae\n",
       "5            AdenomeraAndre\n",
       "6            AdenomeraAndre\n",
       "Name: Species, dtype: object"
      ]
     },
     "execution_count": 16,
     "metadata": {},
     "output_type": "execute_result"
    }
   ],
   "source": [
    "frequent_species = y_data.groupby(\"label\")['Species'].agg(pd.Series.mode)\n",
    "frequent_species "
   ]
  },
  {
   "cell_type": "markdown",
   "metadata": {},
   "source": [
    "majority label in each cluster shown as above for Species"
   ]
  },
  {
   "cell_type": "markdown",
   "metadata": {},
   "source": [
    "# (c) Now for each cluster you have a majority label triplet (family, genus, species). Calculate the average Hamming distance, Hamming score, and Hamming loss between the true labels and the labels assigned by clusters."
   ]
  },
  {
   "cell_type": "code",
   "execution_count": 17,
   "metadata": {
    "collapsed": true
   },
   "outputs": [],
   "source": [
    "\n",
    "### assign majority label triplet to that cluster for family , genus and species \n",
    "y_data['Pred_Family'] = y_data['label'].map(frequent_family)\n",
    "y_data['Pred_Genus'] = y_data['label'].map(frequent_genus)\n",
    "y_data['Pred_Species'] = y_data['label'].map(frequent_species)"
   ]
  },
  {
   "cell_type": "code",
   "execution_count": 22,
   "metadata": {},
   "outputs": [
    {
     "data": {
      "text/html": [
       "<div>\n",
       "<style scoped>\n",
       "    .dataframe tbody tr th:only-of-type {\n",
       "        vertical-align: middle;\n",
       "    }\n",
       "\n",
       "    .dataframe tbody tr th {\n",
       "        vertical-align: top;\n",
       "    }\n",
       "\n",
       "    .dataframe thead th {\n",
       "        text-align: right;\n",
       "    }\n",
       "</style>\n",
       "<table border=\"1\" class=\"dataframe\">\n",
       "  <thead>\n",
       "    <tr style=\"text-align: right;\">\n",
       "      <th></th>\n",
       "      <th>Family</th>\n",
       "      <th>Genus</th>\n",
       "      <th>Species</th>\n",
       "      <th>label</th>\n",
       "      <th>Pred_Family</th>\n",
       "      <th>Pred_Genus</th>\n",
       "      <th>Pred_Species</th>\n",
       "    </tr>\n",
       "  </thead>\n",
       "  <tbody>\n",
       "    <tr>\n",
       "      <th>0</th>\n",
       "      <td>Leptodactylidae</td>\n",
       "      <td>Adenomera</td>\n",
       "      <td>AdenomeraAndre</td>\n",
       "      <td>6</td>\n",
       "      <td>Leptodactylidae</td>\n",
       "      <td>Adenomera</td>\n",
       "      <td>AdenomeraAndre</td>\n",
       "    </tr>\n",
       "    <tr>\n",
       "      <th>1</th>\n",
       "      <td>Leptodactylidae</td>\n",
       "      <td>Adenomera</td>\n",
       "      <td>AdenomeraAndre</td>\n",
       "      <td>6</td>\n",
       "      <td>Leptodactylidae</td>\n",
       "      <td>Adenomera</td>\n",
       "      <td>AdenomeraAndre</td>\n",
       "    </tr>\n",
       "    <tr>\n",
       "      <th>2</th>\n",
       "      <td>Leptodactylidae</td>\n",
       "      <td>Adenomera</td>\n",
       "      <td>AdenomeraAndre</td>\n",
       "      <td>6</td>\n",
       "      <td>Leptodactylidae</td>\n",
       "      <td>Adenomera</td>\n",
       "      <td>AdenomeraAndre</td>\n",
       "    </tr>\n",
       "    <tr>\n",
       "      <th>3</th>\n",
       "      <td>Leptodactylidae</td>\n",
       "      <td>Adenomera</td>\n",
       "      <td>AdenomeraAndre</td>\n",
       "      <td>6</td>\n",
       "      <td>Leptodactylidae</td>\n",
       "      <td>Adenomera</td>\n",
       "      <td>AdenomeraAndre</td>\n",
       "    </tr>\n",
       "    <tr>\n",
       "      <th>4</th>\n",
       "      <td>Leptodactylidae</td>\n",
       "      <td>Adenomera</td>\n",
       "      <td>AdenomeraAndre</td>\n",
       "      <td>6</td>\n",
       "      <td>Leptodactylidae</td>\n",
       "      <td>Adenomera</td>\n",
       "      <td>AdenomeraAndre</td>\n",
       "    </tr>\n",
       "  </tbody>\n",
       "</table>\n",
       "</div>"
      ],
      "text/plain": [
       "            Family      Genus         Species  label      Pred_Family  \\\n",
       "0  Leptodactylidae  Adenomera  AdenomeraAndre      6  Leptodactylidae   \n",
       "1  Leptodactylidae  Adenomera  AdenomeraAndre      6  Leptodactylidae   \n",
       "2  Leptodactylidae  Adenomera  AdenomeraAndre      6  Leptodactylidae   \n",
       "3  Leptodactylidae  Adenomera  AdenomeraAndre      6  Leptodactylidae   \n",
       "4  Leptodactylidae  Adenomera  AdenomeraAndre      6  Leptodactylidae   \n",
       "\n",
       "  Pred_Genus    Pred_Species  \n",
       "0  Adenomera  AdenomeraAndre  \n",
       "1  Adenomera  AdenomeraAndre  \n",
       "2  Adenomera  AdenomeraAndre  \n",
       "3  Adenomera  AdenomeraAndre  \n",
       "4  Adenomera  AdenomeraAndre  "
      ]
     },
     "execution_count": 22,
     "metadata": {},
     "output_type": "execute_result"
    }
   ],
   "source": [
    "y_data.head()"
   ]
  },
  {
   "cell_type": "code",
   "execution_count": 24,
   "metadata": {
    "collapsed": true
   },
   "outputs": [],
   "source": [
    "### first three columns are actual labels\n",
    "actual_label = [x.iloc[:, :3].values for _, x in y_data.groupby('label')] \n",
    "### last three columns are assigned labels\n",
    "assign_label = [x.iloc[:, 4:].values for _, x in y_data.groupby('label')]"
   ]
  },
  {
   "cell_type": "code",
   "execution_count": 41,
   "metadata": {
    "collapsed": true
   },
   "outputs": [],
   "source": [
    "\n",
    "def get_ham_distance(x):\n",
    "    ### if actural label not equal to assigned label, then distance +=1\n",
    "    return np.mean(np.sum(np.not_equal(x[0], x[1]), axis=1))\n",
    "\n",
    "def get_ham_score(x):\n",
    "    ### if assigned label equal to actual label, ham_score = correnct label / total label\n",
    "    return np.mean((np.sum((np.equal(x[0], x[1])), axis=1) / x[0].shape[1]))"
   ]
  },
  {
   "cell_type": "code",
   "execution_count": 44,
   "metadata": {
    "collapsed": true
   },
   "outputs": [],
   "source": [
    "### get the hamming distance , hamming score ###\n",
    "hamming_dist = np.mean(list(map(get_ham_distance, zip(actual_label, assign_label))))\n",
    "hamming_score = np.mean(list(map(get_ham_score, zip(actual_label, assign_label))))\n",
    "hamming_loss = 1- hamming_score"
   ]
  },
  {
   "cell_type": "code",
   "execution_count": 46,
   "metadata": {},
   "outputs": [
    {
     "name": "stdout",
     "output_type": "stream",
     "text": [
      "the average hamming distance is 0.7246666381417686\n",
      "the average hamming_socre is 0.7584444539527438\n",
      "the average hamming_loss is 0.24155554604725615\n"
     ]
    }
   ],
   "source": [
    "print(\"the average hamming distance is {}\".format(hamming_dist))\n",
    "print(\"the average hamming_socre is {}\".format(hamming_score))\n",
    "print(\"the average hamming_loss is {}\".format(hamming_loss))"
   ]
  },
  {
   "cell_type": "markdown",
   "metadata": {},
   "source": [
    "# Monte-Carlo Simulation: Perform the following procedures 50 times, and report the average and standard deviation of the 50 Hamming Distances that you calculate"
   ]
  },
  {
   "cell_type": "code",
   "execution_count": 86,
   "metadata": {
    "collapsed": true
   },
   "outputs": [],
   "source": [
    "def get_k(x):\n",
    "    \n",
    "    ### each time find k from range {1,2,3,...50}\n",
    "    k_range= [*range(2,51)]\n",
    "    k_score = [0,0]\n",
    "    for k in k_range:\n",
    "        ### without random state to make sure each time generate different result \n",
    "        cluster = MiniBatchKMeans(n_clusters=k) \n",
    "    \n",
    "        cluster_label = cluster.fit_predict(x)\n",
    "    \n",
    "        score = silhouette_score(x, cluster_label, metric=\"euclidean\")\n",
    "        \n",
    "        if score > k_score[1]:\n",
    "            k_score = [k,score]\n",
    "            \n",
    "    ##after find best k and it's score ###\n",
    "    \n",
    "    best_k = k_score[0]\n",
    "    \n",
    "    return best_k\n",
    "    "
   ]
  },
  {
   "cell_type": "code",
   "execution_count": 91,
   "metadata": {
    "collapsed": true
   },
   "outputs": [],
   "source": [
    "### refit the model and get hamming socre hamming loss and hamming distance \n",
    "def refit_model(x,y):\n",
    "    ### get the best k from k_range \n",
    "    best_k = get_k(x)\n",
    "    ### refit the minibatchkmeans using best k \n",
    "    cluster = MiniBatchKMeans(n_clusters=best_k)\n",
    "    cluster_label = cluster.fit_predict(x)\n",
    "    \n",
    "    y[\"label\"] = cluster_label\n",
    "    \n",
    "    frequent_family = y.groupby(\"label\")[\"Family\"].agg(pd.Series.mode)\n",
    "    frequent_genus = y.groupby(\"label\")['Genus'].agg(pd.Series.mode)\n",
    "    frequent_species = y.groupby(\"label\")['Species'].agg(pd.Series.mode)\n",
    "    ### assign majority label triplet to that cluster for family , genus and species \n",
    "    y['Pred_Family'] = y['label'].map(frequent_family)\n",
    "    y['Pred_Genus'] = y['label'].map(frequent_genus)\n",
    "    y['Pred_Species'] = y['label'].map(frequent_species)\n",
    "    ### first three columns are actual labels\n",
    "    actual_label = [x.iloc[:, :3].values for _, x in y.groupby('label')] \n",
    "    ### last three columns are assigned labels\n",
    "    assign_label = [x.iloc[:, 4:].values for _, x in y.groupby('label')]\n",
    "    \n",
    "    ### get the average hamming distance , average hamming score ###\n",
    "    ham_dist = np.mean(list(map(get_ham_distance, zip(actual_label, assign_label))))\n",
    "    ham_score = np.mean(list(map(get_ham_score, zip(actual_label, assign_label))))\n",
    "    ham_loss = 1- ham_score\n",
    "    \n",
    "    return [ham_dist,ham_score,ham_loss]\n",
    "    \n",
    "\n",
    "    "
   ]
  },
  {
   "cell_type": "code",
   "execution_count": 95,
   "metadata": {},
   "outputs": [
    {
     "name": "stdout",
     "output_type": "stream",
     "text": [
      "comlete 50%\n",
      "complet\n"
     ]
    }
   ],
   "source": [
    "####  Monte-Carlo Simulation 50 times ####\n",
    "ham_50 = []\n",
    "\n",
    "X_data = data.iloc[:,:-4] ### get rid of y lables \n",
    "y_data = data.iloc[:,22:25]\n",
    "\n",
    "for i in range(50):\n",
    "    \n",
    "    if i == 25:\n",
    "        print(\"comlete 50%\")\n",
    "        \n",
    "    if i == 49:\n",
    "        print(\"complet\")\n",
    "    all_scores= refit_model(X_data,y_data)\n",
    "    \n",
    "    ham_50.append(all_scores)\n",
    "    \n",
    "\n",
    "    \n",
    "  "
   ]
  },
  {
   "cell_type": "code",
   "execution_count": 100,
   "metadata": {
    "collapsed": true
   },
   "outputs": [],
   "source": [
    "three_scores= np.array(ham_50)"
   ]
  },
  {
   "cell_type": "code",
   "execution_count": 101,
   "metadata": {},
   "outputs": [
    {
     "data": {
      "text/plain": [
       "(50, 3)"
      ]
     },
     "execution_count": 101,
     "metadata": {},
     "output_type": "execute_result"
    }
   ],
   "source": [
    "three_scores.shape"
   ]
  },
  {
   "cell_type": "code",
   "execution_count": 103,
   "metadata": {
    "collapsed": true
   },
   "outputs": [],
   "source": [
    "df_scores = pd.DataFrame(three_scores, columns =[\"Hamming_distance\",\"Hamming_score\",\"Hamming_Loss\"])"
   ]
  },
  {
   "cell_type": "code",
   "execution_count": 105,
   "metadata": {},
   "outputs": [
    {
     "data": {
      "text/html": [
       "<div>\n",
       "<style scoped>\n",
       "    .dataframe tbody tr th:only-of-type {\n",
       "        vertical-align: middle;\n",
       "    }\n",
       "\n",
       "    .dataframe tbody tr th {\n",
       "        vertical-align: top;\n",
       "    }\n",
       "\n",
       "    .dataframe thead th {\n",
       "        text-align: right;\n",
       "    }\n",
       "</style>\n",
       "<table border=\"1\" class=\"dataframe\">\n",
       "  <thead>\n",
       "    <tr style=\"text-align: right;\">\n",
       "      <th></th>\n",
       "      <th>Hamming_distance</th>\n",
       "      <th>Hamming_score</th>\n",
       "      <th>Hamming_Loss</th>\n",
       "    </tr>\n",
       "  </thead>\n",
       "  <tbody>\n",
       "    <tr>\n",
       "      <th>0</th>\n",
       "      <td>0.833471</td>\n",
       "      <td>0.722176</td>\n",
       "      <td>0.277824</td>\n",
       "    </tr>\n",
       "    <tr>\n",
       "      <th>1</th>\n",
       "      <td>0.623222</td>\n",
       "      <td>0.792259</td>\n",
       "      <td>0.207741</td>\n",
       "    </tr>\n",
       "    <tr>\n",
       "      <th>2</th>\n",
       "      <td>1.151217</td>\n",
       "      <td>0.616261</td>\n",
       "      <td>0.383739</td>\n",
       "    </tr>\n",
       "    <tr>\n",
       "      <th>3</th>\n",
       "      <td>0.957177</td>\n",
       "      <td>0.680941</td>\n",
       "      <td>0.319059</td>\n",
       "    </tr>\n",
       "    <tr>\n",
       "      <th>4</th>\n",
       "      <td>0.821420</td>\n",
       "      <td>0.726193</td>\n",
       "      <td>0.273807</td>\n",
       "    </tr>\n",
       "  </tbody>\n",
       "</table>\n",
       "</div>"
      ],
      "text/plain": [
       "   Hamming_distance  Hamming_score  Hamming_Loss\n",
       "0          0.833471       0.722176      0.277824\n",
       "1          0.623222       0.792259      0.207741\n",
       "2          1.151217       0.616261      0.383739\n",
       "3          0.957177       0.680941      0.319059\n",
       "4          0.821420       0.726193      0.273807"
      ]
     },
     "execution_count": 105,
     "metadata": {},
     "output_type": "execute_result"
    }
   ],
   "source": [
    "df_scores.head()"
   ]
  },
  {
   "cell_type": "code",
   "execution_count": 114,
   "metadata": {
    "collapsed": true
   },
   "outputs": [],
   "source": [
    "### get mean and std for each score \n",
    "\n",
    "df = df_scores.describe().T[[ 'mean', 'std']]"
   ]
  },
  {
   "cell_type": "code",
   "execution_count": 115,
   "metadata": {},
   "outputs": [
    {
     "data": {
      "text/html": [
       "<div>\n",
       "<style scoped>\n",
       "    .dataframe tbody tr th:only-of-type {\n",
       "        vertical-align: middle;\n",
       "    }\n",
       "\n",
       "    .dataframe tbody tr th {\n",
       "        vertical-align: top;\n",
       "    }\n",
       "\n",
       "    .dataframe thead th {\n",
       "        text-align: right;\n",
       "    }\n",
       "</style>\n",
       "<table border=\"1\" class=\"dataframe\">\n",
       "  <thead>\n",
       "    <tr style=\"text-align: right;\">\n",
       "      <th></th>\n",
       "      <th>Hamming_distance</th>\n",
       "      <th>Hamming_score</th>\n",
       "      <th>Hamming_Loss</th>\n",
       "    </tr>\n",
       "  </thead>\n",
       "  <tbody>\n",
       "    <tr>\n",
       "      <th>mean</th>\n",
       "      <td>0.887934</td>\n",
       "      <td>0.704022</td>\n",
       "      <td>0.295978</td>\n",
       "    </tr>\n",
       "    <tr>\n",
       "      <th>std</th>\n",
       "      <td>0.138806</td>\n",
       "      <td>0.046269</td>\n",
       "      <td>0.046269</td>\n",
       "    </tr>\n",
       "  </tbody>\n",
       "</table>\n",
       "</div>"
      ],
      "text/plain": [
       "      Hamming_distance  Hamming_score  Hamming_Loss\n",
       "mean          0.887934       0.704022      0.295978\n",
       "std           0.138806       0.046269      0.046269"
      ]
     },
     "execution_count": 115,
     "metadata": {},
     "output_type": "execute_result"
    }
   ],
   "source": [
    "df.T"
   ]
  },
  {
   "cell_type": "markdown",
   "metadata": {},
   "source": [
    "after 50 times simulation, we got the mean and std for Hamming distance, Hamming_score and Hamming_loss as above"
   ]
  },
  {
   "cell_type": "markdown",
   "metadata": {
    "collapsed": true
   },
   "source": [
    "# 3. ISLR 10.7.2"
   ]
  },
  {
   "cell_type": "markdown",
   "metadata": {},
   "source": [
    "(a) On the basis of this dissimilarity matrix, sketch the dendrogram that results from hierarchically clustering these four observa- tions using complete linkage. Be sure to indicate on the plot the height at which each fusion occurs, as well as the observations corresponding to each leaf in the dendrogram.\n",
    "\n"
   ]
  },
  {
   "cell_type": "code",
   "execution_count": 1,
   "metadata": {
    "collapsed": true
   },
   "outputs": [],
   "source": [
    "import numpy as np\n",
    "from scipy.cluster.hierarchy import dendrogram, linkage\n",
    "from scipy.spatial import distance_matrix\n",
    "from matplotlib import pyplot as plt\n",
    "from scipy.spatial.distance import squareform"
   ]
  },
  {
   "cell_type": "code",
   "execution_count": 11,
   "metadata": {
    "collapsed": true
   },
   "outputs": [],
   "source": [
    "def fancy_dendrogram(*args, **kwargs):\n",
    "    max_d = kwargs.pop('max_d', None)\n",
    "    if max_d and 'color_threshold' not in kwargs:\n",
    "        kwargs['color_threshold'] = max_d\n",
    "    annotate_above = kwargs.pop('annotate_above', 0)\n",
    "\n",
    "    ddata = dendrogram(*args, **kwargs)\n",
    "\n",
    "    if not kwargs.get('no_plot', False):\n",
    "        plt.title('Hierarchical Clustering Dendrogram ')\n",
    "        plt.xlabel('sample index')\n",
    "        plt.ylabel('distance')\n",
    "        for i, d, c in zip(ddata['icoord'], ddata['dcoord'], ddata['color_list']):\n",
    "            x = 0.5 * sum(i[1:3])\n",
    "            y = d[1]\n",
    "            if y > annotate_above:\n",
    "                plt.plot(x, y, 'o', c=c)\n",
    "                plt.annotate(\"%.3g\" % y, (x, y), xytext=(0, -5),\n",
    "                             textcoords='offset points',\n",
    "                             va='top', ha='center')\n",
    "        if max_d:\n",
    "            plt.axhline(y=max_d, c='k')\n",
    "    return ddata"
   ]
  },
  {
   "cell_type": "code",
   "execution_count": 12,
   "metadata": {},
   "outputs": [
    {
     "data": {
      "image/png": "[encoded data removed]",
      "text/plain": [
       "<Figure size 720x504 with 1 Axes>"
      ]
     },
     "metadata": {},
     "output_type": "display_data"
    }
   ],
   "source": [
    "X= np.array([[0,0.3,0.4,0.7],[0.3,0,0.5,0.8],[0.4,0.5,0,0.45],[0.7,0.8,0.45,0]])\n",
    "dists = squareform(X)\n",
    "linkage_matrix = linkage(dists, \"complete\")\n",
    "plt.figure(figsize=(10, 7))\n",
    "fancy_dendrogram(linkage_matrix, labels=[\"1\", \"2\", \"3\",\"4\"],\\\n",
    "           distance_sort=\"descending\", \\\n",
    "           show_leaf_counts=True,\\\n",
    "           )\n",
    "plt.title(\"complete_linkage\")\n",
    "plt.show()"
   ]
  },
  {
   "cell_type": "markdown",
   "metadata": {},
   "source": [
    "(b) Repeat (a), this time using single linkage clustering."
   ]
  },
  {
   "cell_type": "code",
   "execution_count": 13,
   "metadata": {
    "scrolled": true
   },
   "outputs": [
    {
     "data": {
      "image/png": "[encoded data removed]",
      "text/plain": [
       "<Figure size 720x504 with 1 Axes>"
      ]
     },
     "metadata": {},
     "output_type": "display_data"
    }
   ],
   "source": [
    "X= np.array([[0,0.3,0.4,0.7],[0.3,0,0.5,0.8],[0.4,0.5,0,0.45],[0.7,0.8,0.45,0]])\n",
    "dists = squareform(X)\n",
    "linkage_matrix = linkage(dists, \"single\")\n",
    "plt.figure(figsize=(10, 7))\n",
    "fancy_dendrogram(linkage_matrix, labels=[\"1\", \"2\", \"3\",\"4\"],\\\n",
    "           distance_sort=\"descending\", \\\n",
    "           show_leaf_counts=True,\\\n",
    "           )\n",
    "plt.title(\"single_linkage\")\n",
    "plt.show()"
   ]
  },
  {
   "cell_type": "markdown",
   "metadata": {},
   "source": [
    "(c) Suppose that we cut the dendogram obtained in (a) such that two clusters result. Which observations are in each cluster?"
   ]
  },
  {
   "cell_type": "code",
   "execution_count": 14,
   "metadata": {
    "scrolled": true
   },
   "outputs": [
    {
     "data": {
      "image/png": "[encoded data removed]",
      "text/plain": [
       "<Figure size 720x504 with 1 Axes>"
      ]
     },
     "metadata": {},
     "output_type": "display_data"
    }
   ],
   "source": [
    "X= np.array([[0,0.3,0.4,0.7],[0.3,0,0.5,0.8],[0.4,0.5,0,0.45],[0.7,0.8,0.45,0]])\n",
    "dists = squareform(X)\n",
    "linkage_matrix = linkage(dists, \"complete\")\n",
    "plt.figure(figsize=(10, 7))\n",
    "fancy_dendrogram(linkage_matrix, labels=[\"1\", \"2\", \"3\",\"4\"],\\\n",
    "           distance_sort=\"descending\", \\\n",
    "           show_leaf_counts=True,\\\n",
    "           max_d = 0.5\n",
    "           )\n",
    "plt.title(\"complete_linkage\")\n",
    "plt.show()"
   ]
  },
  {
   "cell_type": "markdown",
   "metadata": {},
   "source": [
    "If we cut the dendogram in (a), we will have two culsters, one cluster is  (1,2) and another is (3,4)"
   ]
  },
  {
   "cell_type": "markdown",
   "metadata": {},
   "source": [
    "(d) Suppose that we cut the dendogram obtained in (b) such that two clusters result. Which observations are in each cluster?"
   ]
  },
  {
   "cell_type": "code",
   "execution_count": 15,
   "metadata": {},
   "outputs": [
    {
     "data": {
      "image/png": "[encoded data removed]",
      "text/plain": [
       "<Figure size 720x504 with 1 Axes>"
      ]
     },
     "metadata": {},
     "output_type": "display_data"
    }
   ],
   "source": [
    "X= np.array([[0,0.3,0.4,0.7],[0.3,0,0.5,0.8],[0.4,0.5,0,0.45],[0.7,0.8,0.45,0]])\n",
    "dists = squareform(X)\n",
    "linkage_matrix = linkage(dists, \"single\")\n",
    "plt.figure(figsize=(10, 7))\n",
    "fancy_dendrogram(linkage_matrix, labels=[\"1\", \"2\", \"3\",\"4\"],\\\n",
    "           distance_sort=\"descending\", \\\n",
    "           show_leaf_counts=True,\\\n",
    "           max_d = 0.43\n",
    "           )\n",
    "plt.title(\"single_linkage\")\n",
    "plt.show()"
   ]
  },
  {
   "cell_type": "markdown",
   "metadata": {},
   "source": [
    "If we cut the dendogram in (b), we will have two culsters, one cluster is (1,2,3) and another is (4)"
   ]
  },
  {
   "cell_type": "markdown",
   "metadata": {},
   "source": [
    "(e) It is mentioned in the chapter that at each fusion in the den- drogram, the position of the two clusters being fused can be swapped without changing the meaning of the dendrogram. Draw a dendrogram that is equivalent to the dendrogram in (a), for which two or more of the leaves are repositioned, but for which the meaning of the dendrogram is the same.\n"
   ]
  },
  {
   "cell_type": "code",
   "execution_count": 17,
   "metadata": {},
   "outputs": [
    {
     "data": {
      "image/png": "[encoded data removed]",
      "text/plain": [
       "<Figure size 720x504 with 1 Axes>"
      ]
     },
     "metadata": {},
     "output_type": "display_data"
    }
   ],
   "source": [
    "X= np.array([[0,0.3,0.4,0.7],[0.3,0,0.5,0.8],[0.4,0.5,0,0.45],[0.7,0.8,0.45,0]])\n",
    "dists = squareform(X)\n",
    "linkage_matrix = linkage(dists, \"complete\")\n",
    "plt.figure(figsize=(10, 7))\n",
    "fancy_dendrogram(linkage_matrix, labels=[\"2\", \"1\", \"4\",\"3\"],\\\n",
    "           distance_sort=\"descending\", \\\n",
    "           show_leaf_counts=True,\\\n",
    "           )\n",
    "plt.title(\"complete_linkage\")\n",
    "plt.show()"
   ]
  },
  {
   "cell_type": "code",
   "execution_count": null,
   "metadata": {
    "collapsed": true
   },
   "outputs": [],
   "source": []
  }
 ],
 "metadata": {
  "kernelspec": {
   "display_name": "Python 3",
   "language": "python",
   "name": "python3"
  },
  "language_info": {
   "codemirror_mode": {
    "name": "ipython",
    "version": 3
   },
   "file_extension": ".py",
   "mimetype": "text/x-python",
   "name": "python",
   "nbconvert_exporter": "python",
   "pygments_lexer": "ipython3",
   "version": "3.6.3"
  }
 },
 "nbformat": 4,
 "nbformat_minor": 2
}
